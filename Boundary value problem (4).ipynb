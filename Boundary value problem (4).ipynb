{
 "cells": [
  {
   "cell_type": "markdown",
   "id": "4b9cb061",
   "metadata": {},
   "source": [
    "# Second Order finite difference scheme for two point Boundary value Problem\n"
   ]
  },
  {
   "cell_type": "markdown",
   "id": "fe7253d7",
   "metadata": {},
   "source": [
    "Given Equation: -U''(X)  =  f(X)\n",
    "\n",
    "U(0)  =  0, U'(1)  =  1\n",
    "\n",
    "We have to define two schemes S1 and S2 for approximating the solution of this problem.\n",
    "\n",
    "By S1: ( U𝑛+1 - U𝑛 )/h  = 1 \n",
    "\n",
    "By S2: (U𝑛+2  -  U𝑛 )/2h  =  1\n",
    "\n",
    "We know by second order finite difference scheme that u''(x) = ( U𝑗−1 - 2 U𝑗  +  U𝑗+1 )/ $h^{2}$.\n",
    "Using the above two boundary value conditions in S1 and S2, we can find relations as below:- \n",
    "\n",
    "𝑈𝑛 -  𝑈𝑛−1  = h +  $ℎ^{2}$  f( 𝑋𝑛 ) for Scheme S1.\n",
    "\n",
    "𝑈𝑛  -  𝑈𝑛−1  =  $ℎ^{2}$  f( 𝑋𝑛 ) + h + ( $ℎ^{2}$ /2) f( 𝑋𝑛+1 ) for scheme S2."
   ]
  },
  {
   "cell_type": "code",
   "execution_count": 666,
   "id": "e0b028e3",
   "metadata": {},
   "outputs": [],
   "source": [
    "#importing necessary modules\n",
    "import numpy as np\n",
    "import matplotlib.pyplot as plt\n",
    "%matplotlib inline"
   ]
  },
  {
   "cell_type": "code",
   "execution_count": 718,
   "id": "b26d3454",
   "metadata": {},
   "outputs": [],
   "source": [
    "# defining number of grids at the top\n",
    "n = 3\n",
    "def coeffmatrix(n):\n",
    "    A = np.zeros((n,n))\n",
    "    A[0,0] = 2\n",
    "    A[0,1] = -1\n",
    "    A[n-1,n-2] = -1\n",
    "    A[n-1,n-1] = 1\n",
    "    for i in range(1,n-1):\n",
    "        A[i,i-1] = -1\n",
    "        A[i,i] = 2\n",
    "        A[i,i+1] = -1  \n",
    "    return(A)    \n",
    "        \n",
    "        \n",
    "    \n",
    "    \n",
    "    \n",
    "    \n",
    "    \n",
    "    \n",
    "\n",
    "\n"
   ]
  },
  {
   "cell_type": "code",
   "execution_count": 719,
   "id": "19daaf56",
   "metadata": {},
   "outputs": [],
   "source": [
    "def definex(n):\n",
    "    h = (1-0)/(n+1)\n",
    "    X = np.zeros((1,n))\n",
    "    for i in range(0,n):\n",
    "        X[0,i] = 0 +((i+1)*h)   \n",
    "    return(X)    \n",
    "        \n",
    "    "
   ]
  },
  {
   "cell_type": "code",
   "execution_count": 720,
   "id": "8edc48ac",
   "metadata": {},
   "outputs": [],
   "source": [
    "def fmatrix(n):\n",
    "    f = np.zeros((1,n))\n",
    "    X = definex(n)\n",
    "    for i in range(0,n):\n",
    "        f[0,i] = -1* pow(np.e,(X[0,i]-1))   \n",
    "    return(f)    \n",
    "    "
   ]
  },
  {
   "cell_type": "code",
   "execution_count": 721,
   "id": "0f78ba28",
   "metadata": {},
   "outputs": [],
   "source": [
    "def bmatrix(n, scheme):\n",
    "    h = (1-0)/(n+1)\n",
    "    F = fmatrix(n)\n",
    "    b = np.zeros((1,n))\n",
    "    for i in range(0,n):\n",
    "        b[0,i] = h**2 * F[0,i]\n",
    "    if scheme == 'S1':\n",
    "        b[0,n-1] = b[0,n-1] + h\n",
    "    else:\n",
    "        b[0,n-1] = (b[0,n-1] + h + (((h**2)/2) * (-1)))\n",
    "                               \n",
    "    return(b)                           \n",
    "    \n",
    "    \n",
    "    "
   ]
  },
  {
   "cell_type": "code",
   "execution_count": 722,
   "id": "3f66abae",
   "metadata": {},
   "outputs": [],
   "source": [
    "def solve(n, scheme):\n",
    "    a = coeffmatrix(n)\n",
    "    b = bmatrix(n, scheme)\n",
    "    y = np.linalg.solve(a,b.T)\n",
    "    return(definex(n),y)\n",
    "\n",
    "    \n",
    "    \n",
    "    "
   ]
  },
  {
   "cell_type": "code",
   "execution_count": 723,
   "id": "d6d7b820",
   "metadata": {},
   "outputs": [],
   "source": [
    "def exactU(n):\n",
    "    X = definex(n)\n",
    "    U = np.zeros((1,n))\n",
    "    for i in range(0,n):\n",
    "        U[0,i] = pow((np.e),-1) * (pow(np.e,X[0,i])-1)\n",
    "    return(U)    \n",
    "        "
   ]
  },
  {
   "cell_type": "code",
   "execution_count": 724,
   "id": "68d1f1b5",
   "metadata": {},
   "outputs": [
    {
     "data": {
      "image/png": "[encoded data removed]",
      "text/plain": [
       "<Figure size 432x288 with 1 Axes>"
      ]
     },
     "metadata": {
      "needs_background": "light"
     },
     "output_type": "display_data"
    }
   ],
   "source": [
    "x,u = solve(n , scheme = 'S1')\n",
    "Uorig = exactU(n)\n",
    "plt.plot(x.T,u, color='r', label = 'Input scheme')\n",
    "plt.plot(x.T,Uorig.T, color = 'g', label = 'Original function')\n",
    "plt.legend()\n",
    "plt.show()"
   ]
  },
  {
   "cell_type": "code",
   "execution_count": 729,
   "id": "75d0d1d8",
   "metadata": {},
   "outputs": [
    {
     "data": {
      "text/plain": [
       "<matplotlib.legend.Legend at 0x7fb17ec3d7c0>"
      ]
     },
     "execution_count": 729,
     "metadata": {},
     "output_type": "execute_result"
    },
    {
     "data": {
      "image/png": "[encoded data removed]",
      "text/plain": [
       "<Figure size 432x288 with 1 Axes>"
      ]
     },
     "metadata": {
      "needs_background": "light"
     },
     "output_type": "display_data"
    }
   ],
   "source": [
    "max_error = np.max(abs(Uorig - u.T))\n",
    "dict[n] = max_error\n",
    "lists = sorted(dict.items()) \n",
    "grids, error = zip(*lists)\n",
    "plt.plot(grids, np.log(error), color = 'b', label = 'log of error Vs n' )\n",
    "plt.legend()"
   ]
  },
  {
   "cell_type": "code",
   "execution_count": null,
   "id": "f8b9399b",
   "metadata": {},
   "outputs": [],
   "source": [
    "\n"
   ]
  }
 ],
 "metadata": {
  "kernelspec": {
   "display_name": "Python 3",
   "language": "python",
   "name": "python3"
  },
  "language_info": {
   "codemirror_mode": {
    "name": "ipython",
    "version": 3
   },
   "file_extension": ".py",
   "mimetype": "text/x-python",
   "name": "python",
   "nbconvert_exporter": "python",
   "pygments_lexer": "ipython3",
   "version": "3.8.10"
  }
 },
 "nbformat": 4,
 "nbformat_minor": 5
}
