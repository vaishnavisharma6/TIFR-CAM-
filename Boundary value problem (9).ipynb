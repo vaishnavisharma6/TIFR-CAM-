{
 "cells": [
  {
   "cell_type": "markdown",
   "id": "4b9cb061",
   "metadata": {},
   "source": [
    "# Second Order finite difference scheme for two point Boundary value Problem\n"
   ]
  },
  {
   "cell_type": "markdown",
   "id": "fe7253d7",
   "metadata": {},
   "source": [
    "Given equation : **$$-U''(x) = f(x)$$**\n",
    "\n",
    "Subject to the conditions : **$$U(0) = 0,  U'(1) = 1$$**\n",
    "\n",
    "We will define a grid of n points from $x_{0}$ = 0 to $x_{n+1}$ = 1.\n",
    "\n",
    "Grid can be denoted as $$x_{0}, x_{1}, x_{2}......x_{j}, x_{j+1}......x_{n}, x_{n+1}$$.\n",
    "\n",
    "where j varies from j = 0 to j = n+1 and $$x_{j+1} - x_{j} = h$$\n",
    "\n",
    "And $$U_{j} = U(x_{j})$$\n",
    "\n",
    "Approximation to second boundary condition is given by two different schemes S1 and S2 as follows:-\n",
    "\n",
    "**S1** : $$\\frac{U_{n+1} - U_{n}}{h} = 1$$\n",
    "\n",
    "**S2** : $$\\frac{U_{n+2} - U_{n}}{2h} = 1$$\n",
    "\n",
    "\n",
    "We know by second order finite difference scheme, **U''(x)** can be written as:-\n",
    "\n",
    "$$\\frac{U_{j-1} - 2U_{j} + U_{j+1}}{h^{2}}$$\n",
    "\n",
    "Therefore from the equation given in question to be solved; we get:-\n",
    "\n",
    "$$\\frac{U_{j-1} - 2U_{j} + U_{j+1}}{h^{2}} = -f(x_{j})$$\n",
    "\n",
    "\n",
    "Using the conditions given in schemes S1 and S2, we can find relation between $U_{n}$ and $U_{n-1}$ as follows:-\n",
    "\n",
    "For scheme S1 : $$U_{n} - U_{n-1} = h + h^{2} * f(x_{n})$$\n",
    "\n",
    "For scheme S2 : $$U_{n} - U_{n-1} = h + h^{2} * f(x_{n}) + \\frac{h^{2}}{2} * f(x_{n+1})$$\n",
    "\n",
    "We can form a system of matrices based on the equations formed above as follows:-\n",
    "\n",
    "**$$Av = b$$**\n",
    "\n",
    "where A = coefficient matrix can be defined (for example for **n = 4**) as \n",
    "\n",
    "$$\\begin{bmatrix} 2 & -1 & 0 & 0 \\\\ -1 & 2 & -1 & 0 \\\\ 0 & -1 & 2 & -1 \\\\ 0 & 0 & -1 & 1 \\end{bmatrix}$$\n",
    "\n",
    "\n",
    "v is a vector for approximated values of u at different grid points as $$\\begin{bmatrix} v1 \\\\ v2 \\\\ v3 \\\\ v4 \\end{bmatrix}$$\n",
    "\n",
    "b is a vector defined **for scheme S1**(for example for n=4):-\n",
    "\n",
    "$$\\begin{bmatrix} h^{2} f(x_{1}) \\\\ h^{2} f(x_{2}) \\\\ h^{2} f(x_{3}) \\\\ h + h^{2} f(x_{4}) \\end{bmatrix}$$\n",
    "\n",
    "Similarly **for scheme S2**, b will be defined as(for e.g. n = 4):-\n",
    "$$\\begin{bmatrix} h^{2} f(x_{1}) \\\\ h^{2} f(x_{2}) \\\\ h^{2} f(x_{3}) \\\\ h + h^{2} f(x_{4}) + \\frac{h^{2}}{2} * f(x_{5}) \\end{bmatrix}$$\n",
    "\n",
    "We can similarly define these matrices for different values of n.\n",
    "\n",
    "Here, we will implement a function solve() in which inputs will be n and scheme and output will be X(i.e. vector for grid points) and v(vector for approximated values of function u).\n",
    "\n",
    "We will plot the approximated values and original function u on graph and then calculate the error for different values of n and plot them.\n",
    "\n",
    "Finally, we will find the convergence matrix that shows how fast the approximated values are converging towards original function values with respect to n.\n",
    "\n",
    "\n",
    "\n"
   ]
  },
  {
   "cell_type": "code",
   "execution_count": 11,
   "id": "e0b028e3",
   "metadata": {},
   "outputs": [],
   "source": [
    "#importing necessary modules\n",
    "import numpy as np\n",
    "import matplotlib.pyplot as plt\n",
    "%matplotlib inline"
   ]
  },
  {
   "cell_type": "code",
   "execution_count": 12,
   "id": "b26d3454",
   "metadata": {},
   "outputs": [],
   "source": [
    "def solve(n, scheme):\n",
    "    h = 1/(n+1)\n",
    "    A = np.zeros((n,n))     #coefficient matrix\n",
    "    A[0,0] = 2             \n",
    "    A[0,1] = -1\n",
    "    A[n-1,n-2] = -1\n",
    "    A[n-1,n-1] = 1\n",
    "    for i in range(1,n-1):\n",
    "        A[i,i-1] = -1\n",
    "        A[i,i] = 2\n",
    "        A[i,i+1] = -1  \n",
    "    \n",
    "    X = np.linspace(h, h+((n-1)*h),n)      #X array\n",
    "    F = -np.exp(X-1)                       #array for f(X) = -e^(X-1)\n",
    "    b = h**2 * F                           #b array for right hand side\n",
    "    if scheme == 'S1':\n",
    "        b[n-1] = b[n-1] + h                #last entry change due to condition given in S1\n",
    "    else:    \n",
    "        b[n-1] = b[n-1] + h + (((h**2)/2) * (-1))    #last entry change due to condition given in S2\n",
    "                                                    \n",
    "    y = np.linalg.solve(A,b)                         #solving linear equations formed by above matrices defined\n",
    "    return(X,y)\n",
    "\n",
    "    \n",
    "\n",
    "\n"
   ]
  },
  {
   "cell_type": "code",
   "execution_count": 13,
   "id": "68d1f1b5",
   "metadata": {},
   "outputs": [
    {
     "data": {
      "image/png": "[encoded data removed]",
      "text/plain": [
       "<Figure size 432x288 with 1 Axes>"
      ]
     },
     "metadata": {
      "needs_background": "light"
     },
     "output_type": "display_data"
    }
   ],
   "source": [
    "x,u = solve(n = 10 , scheme = 'S1')       #function call for solving linear equations\n",
    "x, u1 = solve(n = 10, scheme = 'S2')\n",
    "Uorig = (1/np.e)* (np.exp(x)-1)                    # exact function array\n",
    "plt.plot(x,u, color='r', label = 'Input Scheme S1')\n",
    "plt.plot(x,u1,color = 'b', label = 'Input Scheme S2')\n",
    "plt.plot(x,Uorig, color = 'g', label = 'Original function')\n",
    "plt.legend()\n",
    "plt.show()"
   ]
  },
  {
   "cell_type": "code",
   "execution_count": 14,
   "id": "e8db24b7",
   "metadata": {},
   "outputs": [
    {
     "data": {
      "text/plain": [
       "<matplotlib.legend.Legend at 0x7ffa91dbff10>"
      ]
     },
     "execution_count": 14,
     "metadata": {},
     "output_type": "execute_result"
    },
    {
     "data": {
      "image/png": "[encoded data removed]",
      "text/plain": [
       "<Figure size 432x288 with 1 Axes>"
      ]
     },
     "metadata": {
      "needs_background": "light"
     },
     "output_type": "display_data"
    }
   ],
   "source": [
    "#for finding error\n",
    "n = 5  #setting initial value of number of grids\n",
    "iterations = 5\n",
    "max_error = []\n",
    "grids = []\n",
    "step_size = []\n",
    "for i in range(iterations):\n",
    "    x,u = solve(n, scheme = 'S2')\n",
    "    Uorig = (1/np.e)* (np.exp(x)-1)\n",
    "    max_error.append(np.max(abs(Uorig-u)))\n",
    "    grids.append(n)\n",
    "    step_size.append(1/(n+1))\n",
    "    n *= 2                    #doubling the value of grids in each iteration upto n=80\n",
    "plt.xlabel('number of grids(n)')\n",
    "plt.ylabel('error')\n",
    "plt.loglog(grids,max_error,'v', label = 'loglog plot for number of grids vs error')\n",
    "plt.legend()\n"
   ]
  },
  {
   "cell_type": "code",
   "execution_count": 15,
   "id": "c69e9614",
   "metadata": {},
   "outputs": [
    {
     "name": "stdout",
     "output_type": "stream",
     "text": [
      "[1.8290997174286416, 1.9132062127927274, 1.956221370838158, 1.9780085575679334]\n"
     ]
    }
   ],
   "source": [
    "#for finding rate of convergence\n",
    "a = len(step_size)\n",
    "conv = []\n",
    "conv1 = []\n",
    "conv2 = []  #array for rate of convergence        \n",
    "for i in range(a-1):\n",
    "    conv.append((np.log(max_error[i]/max_error[i+1]))/(np.log(step_size[i]/step_size[i+1])))\n",
    "print(conv)    "
   ]
  },
  {
   "cell_type": "markdown",
   "id": "8d63cf83",
   "metadata": {},
   "source": [
    "After running the above code, convergence matrix for Scheme S1 comes as : $$[0.8232081426674838, 0.9100679241772262, 0.9545983550580307, 0.9771827425336375]$$\n",
    "\n",
    "Convergence matrix for Scheme S2 comes as : \n",
    "$$[1.8290997174286416, 1.9132062127927274, 1.956221370838158, 1.9780085575679334]$$\n"
   ]
  },
  {
   "cell_type": "markdown",
   "id": "c63bd853",
   "metadata": {},
   "source": [
    "This implies that Scheme S2 converges towards original function at a higher rate than Scheme S1 with respect to n(number of grid points) and hence Scheme S2 is a better approximation to original function than scheme S1."
   ]
  },
  {
   "cell_type": "code",
   "execution_count": null,
   "id": "6b42c28b",
   "metadata": {},
   "outputs": [],
   "source": []
  }
 ],
 "metadata": {
  "kernelspec": {
   "display_name": "Python 3",
   "language": "python",
   "name": "python3"
  },
  "language_info": {
   "codemirror_mode": {
    "name": "ipython",
    "version": 3
   },
   "file_extension": ".py",
   "mimetype": "text/x-python",
   "name": "python",
   "nbconvert_exporter": "python",
   "pygments_lexer": "ipython3",
   "version": "3.8.10"
  }
 },
 "nbformat": 4,
 "nbformat_minor": 5
}
