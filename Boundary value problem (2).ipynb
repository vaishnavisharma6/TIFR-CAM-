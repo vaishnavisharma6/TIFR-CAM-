{
 "cells": [
  {
   "cell_type": "markdown",
   "id": "4b9cb061",
   "metadata": {},
   "source": [
    "# Second Order finite difference scheme for two point Boundary value Problem\n"
   ]
  },
  {
   "cell_type": "markdown",
   "id": "0d4bbc8b",
   "metadata": {},
   "source": [
    "Given Equation: -u''(x) = f(x); u(0) = 0, u'(1) = 1. We have to define two schemes S1 and S2 for approximating the solution of this problem. By S1: ($u_{n+1}$ - $u_{n}$)/h = 1 By S2: ($u_{n+2}$ - $U_{n}$)/2h = 1\n",
    "\n",
    "We know by second order finite difference scheme that u''(x) = ($u_{j-1}$- 2$u_{j}$ + $u_{j+1}$)/$h^{2}$\n",
    "\n",
    "Using above two boundary value conditions in S1 and S2, we can find relations as below:-  𝑈𝑛  - $U_{n-1}$ = h + $h^{2}$ f($X_{n}$) for Scheme S1.\n",
    "\n",
    "$U_{n}$ - $U_{n-1}$ = $h^{2}$ f($X_{n}$) + h + ($h^{2}$/2) f($X_{n+1}$) for scheme S2."
   ]
  },
  {
   "cell_type": "code",
   "execution_count": 12,
   "id": "b26d3454",
   "metadata": {},
   "outputs": [
    {
     "name": "stdout",
     "output_type": "stream",
     "text": [
      "[[ 2. -1.  0.  0.]\n",
      " [-1.  2. -1.  0.]\n",
      " [ 0. -1.  2. -1.]\n",
      " [ 0.  0. -1.  1.]]\n",
      "[[-0.44932896 -0.54881164 -0.67032005 -0.81873075]]\n",
      "[[-0.01797316 -0.02195247 -0.0268128   0.16725077]]\n",
      "[[-0.01797316 -0.02195247 -0.0268128   0.14725077]]\n",
      "[[0.10051234]\n",
      " [0.21899785]\n",
      " [0.35943581]\n",
      " [0.52668658]]\n",
      "[[0.08051234]\n",
      " [0.17899785]\n",
      " [0.29943581]\n",
      " [0.44668658]]\n"
     ]
    },
    {
     "data": {
      "text/plain": [
       "<matplotlib.legend.Legend at 0x7fac2b14ff70>"
      ]
     },
     "execution_count": 12,
     "metadata": {},
     "output_type": "execute_result"
    },
    {
     "data": {
      "image/png": "[encoded data removed]",
      "text/plain": [
       "<Figure size 432x288 with 1 Axes>"
      ]
     },
     "metadata": {
      "needs_background": "light"
     },
     "output_type": "display_data"
    }
   ],
   "source": [
    "import numpy as np\n",
    "import matplotlib.pyplot as plt\n",
    "%matplotlib inline\n",
    "h = 0.2\n",
    "n = 4\n",
    "X = [0.2,0.4,0.6,0.8]    #Row matrix for X values\n",
    "F = np.zeros((1,4))      #Row Matrix for function values\n",
    "A = np.zeros((n,n))      #Matrix for coefficients\n",
    "A[0,0] = 2               \n",
    "A[0,1] = -1\n",
    "A[n-1,n-2] = -1\n",
    "A[n-1,n-1] = 1\n",
    "for i in range(1,n-1):\n",
    "    A[i,i-1] = -1\n",
    "    A[i,i] = 2\n",
    "    A[i,i+1] = -1\n",
    "print(A) \n",
    "for index, value in enumerate(X):\n",
    "    F[0,index] = -1* pow(np.e, value-1)\n",
    "print(F)  \n",
    "\n",
    "# Now we will define b for scheme S1\n",
    "b = np.zeros((1,n))\n",
    "for i in range(n):\n",
    "    b[0,i] = h**2 * F[0,i]\n",
    "b[0,3] = b[0,3] + h    \n",
    "print(b)    \n",
    "\n",
    "#Defining b for scheme S2\n",
    "B = np.zeros((1,n))\n",
    "for i in range(n):\n",
    "    B[0,i] = h**2 * F[0,i]\n",
    "B[0,3] = B[0,3] + h + ((h**2 * -1)/2)\n",
    "print(B)\n",
    "\n",
    "# Now we will solve linear equations for both schemes\n",
    "y = np.linalg.solve(A,b.T)\n",
    "print(y)\n",
    "Y = np.linalg.solve(A,B.T)\n",
    "print(Y)\n",
    "\n",
    "U = [[0.8144],[0.1809],[0.3024],[0.4508]]\n",
    "plt.plot(X,y, color='b', label= 'Scheme S1')\n",
    "plt.plot(X,Y, color = 'r', label = 'Scheme S2')\n",
    "plt.plot(X,U, color = 'g', label = 'Original function')\n",
    "\n",
    "\n",
    "plt.legend()\n",
    "    \n",
    "    \n",
    "    \n",
    "\n",
    "\n"
   ]
  },
  {
   "cell_type": "code",
   "execution_count": 13,
   "id": "7a2a01a1",
   "metadata": {},
   "outputs": [
    {
     "name": "stdout",
     "output_type": "stream",
     "text": [
      "0.71388766\n",
      "0.73388766\n"
     ]
    }
   ],
   "source": [
    "# For finding error in both schemes\n",
    "# From graph, we can see that largest difference is at x = 0.2\n",
    "E1 = np.absolute(0.10051234-0.8144)\n",
    "print(E1)\n",
    "E2 = np.absolute(0.08051234-0.8144)\n",
    "print(E2)"
   ]
  },
  {
   "cell_type": "code",
   "execution_count": null,
   "id": "6474cfc0",
   "metadata": {},
   "outputs": [],
   "source": []
  }
 ],
 "metadata": {
  "kernelspec": {
   "display_name": "Python 3",
   "language": "python",
   "name": "python3"
  },
  "language_info": {
   "codemirror_mode": {
    "name": "ipython",
    "version": 3
   },
   "file_extension": ".py",
   "mimetype": "text/x-python",
   "name": "python",
   "nbconvert_exporter": "python",
   "pygments_lexer": "ipython3",
   "version": "3.8.10"
  }
 },
 "nbformat": 4,
 "nbformat_minor": 5
}
